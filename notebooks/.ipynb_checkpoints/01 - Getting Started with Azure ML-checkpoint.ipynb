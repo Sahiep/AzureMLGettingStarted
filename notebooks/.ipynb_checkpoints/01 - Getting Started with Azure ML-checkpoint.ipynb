{
 "cells": [
  {
   "cell_type": "markdown",
   "metadata": {},
   "source": [
    "# Exercise 1 - Getting Started with Azure ML\n",
    "\n",
    "Azure Machine Learning (Azure ML) is a cloud-based service that enables data scientists, AI software engineers, and others to collaborate on machine learning projects and manage data science workloads at scale. This is the first in a series of hands-on exercises that are designed to introduce the core concepts and components on an Azure ML solution. These exercises assume an existing knowledge of Python and general machine learning concepts and frameworks. Each exercise is provided in its own notebook - it is assumed that you will complete the exercises in order.\n",
    "\n",
    "In a separate browser tab, sign into your Azure subscription and view your portal at https://portal.azure.com. As you proceed through the tasks below, you'll toggle between this notebook and the portal to visually confirm that the code you've run here has had the intended results in your Azure subscription.\n",
    "\n",
    "## Task 1: Install the Azure ML SDK for Python\n",
    "\n",
    "The Azure ML SDK for Python provides classes you can use to work with Azure ML in your Azure subscription. Run the cell below to install the **azureml-sdk** Python package, including the optional *notebooks* component; which provides some functionality specific to the Jupyter Notebooks environment.\n",
    "\n",
    "> **More Information**: For more details about installing the Azure ML SDK and its optional components, see the [Azure ML SDK Documentation](https://docs.microsoft.com/en-us/python/api/overview/azure/ml/install?view=azure-ml-py)"
   ]
  },
  {
   "cell_type": "code",
   "execution_count": null,
   "metadata": {},
   "outputs": [],
   "source": [
    "#!pip install --upgrade azureml-sdk[notebooks]\n",
    "\n",
    "import azureml.core\n",
    "print(\"Ready to use Azure ML\", azureml.core.VERSION)"
   ]
  },
  {
   "cell_type": "markdown",
   "metadata": {},
   "source": [
    "## Task 2: Sign Into your Azure Subscription\n",
    "\n",
    "Now that you've installed the SDK, you can use it to create, manage, and use Azure ML related objects in your Azure subscription, which means you'll need an authenticated connection between the code in this notebook and your Azure subscription. To create this authenticated connection, you can use the **authentication** module in the Azure ML SDK. In this case, you'll use the **InteractiveLoginAuthentication** class to generate a session token.\n",
    "\n",
    "Run the cell below, and when prompted, click the https://microsoft.com/devicelogin link and enter the automatically generated code. Then, sign into your Azure subscription in the browser tab that is opened. After you have successfully signed in, you can close the browser tab that was opened and return to this notebook."
   ]
  },
  {
   "cell_type": "code",
   "execution_count": null,
   "metadata": {},
   "outputs": [],
   "source": [
    "from azureml.core import authentication\n",
    "\n",
    "auth = authentication.InteractiveLoginAuthentication()\n",
    "print('Signed in')"
   ]
  },
  {
   "cell_type": "markdown",
   "metadata": {},
   "source": [
    "## Task 3: Create a Workspace\n",
    "\n",
    "The first object you need to create is an Azure ML *workspace*. As its name suggests, a workspace is a centralized place to manage all of the Azure ML resources you need to work on a machine learning project.\n",
    "\n",
    "> **More Information**: To learn more about workspaces, see the [Azure ML Documentation](https://docs.microsoft.com/en-us/azure/machine-learning/service/concept-workspace).\n",
    "\n",
    "You can create a workspace using the visual interface in the Azure portal, but in this exercise you'll use the Azure ML SDK to create the workspace using code. This approach makes it easier to keep a record of the steps used to provision your Azure ML environment, and enables you to automate the steps should you need to recreate things later.\n",
    "\n",
    "In the code below, enter appropriate values for the *SUBSCRIPTION_ID*, *RESOURCE_GROUP*, *WORKSPACE_NAME*, and *REGION* constants (you can find your Azure subscription ID in the Azure portal - just click the &#128273; **Subscriptions** tab on the left and then select the subscription you want to use). Then run the cell to create your workspace.\n",
    "\n",
    "> **Note**: If you hadn't previously created an authenticated session, you'd automatically be prompted to sign into your Azure subscription!"
   ]
  },
  {
   "cell_type": "code",
   "execution_count": null,
   "metadata": {},
   "outputs": [],
   "source": [
    "from azureml.core import Workspace\n",
    "\n",
    "SUBSCRIPTION_ID = '[subscription-id]' # Get this from the Azure portal\n",
    "RESOURCE_GROUP_NAME  = '[rg-name]' # Get this from the Azure portal\n",
    "WORKSPACE_NAME  = '[ws-name]' # Name of your choice - if it doesn't exist, it will be created\n",
    "REGION = 'northeurope'# Or a region of your choice\n",
    "\n",
    "ws = None\n",
    "try:\n",
    "    # Find existing workspace\n",
    "    ws = Workspace(workspace_name=WORKSPACE_NAME,\n",
    "                   subscription_id=SUBSCRIPTION_ID,\n",
    "                   resource_group= RESOURCE_GROUP_NAME)\n",
    "    print (ws.name, \"found.\")\n",
    "except Exception as ex:\n",
    "    # If workspace not found, create it\n",
    "    print(ex.message)\n",
    "    print(\"Attempting to create new workspace...\")\n",
    "    ws = Workspace.create(name=WORKSPACE_NAME, \n",
    "                      subscription_id=SUBSCRIPTION_ID,\n",
    "                      resource_group=RESOURCE_GROUP_NAME,\n",
    "                      create_resource_group=True,\n",
    "                      location=REGION \n",
    "                     )\n",
    "    print(ws.name, \"created.\")\n",
    "finally:\n",
    "    # Save the workspace configuration for later\n",
    "    if ws != None:\n",
    "        ws.write_config()\n",
    "        print(ws.name, \"saved.\")"
   ]
  },
  {
   "cell_type": "markdown",
   "metadata": {},
   "source": [
    "Switch to the browser tab containing the [Azure portal](https://portal.azure.com), and find the resource group you specified. It should contain the workspace along with some other Azure resources, including a storage account (where the workspace will store data, code, and other saved items), an *AppInsights* instance (used to monitor the workspace), and a *KeyVault* instance (used to manage secure information).\n",
    "\n",
    "Click the workspace to open it, and note that it provides a graphical environment in which you can manage various Azure ML assets, such as *experiments*, *pipelines*, *compute*, *models*, and others. You will explore these kinds of asset in subsequent exercises.\n",
    "\n",
    "In the code above, note that you used the **write_config** method to save the workspace configuration. This saved a JSON configuration file in a hidden folder named **.azureml**, which you can verify with the following cell."
   ]
  },
  {
   "cell_type": "code",
   "execution_count": null,
   "metadata": {},
   "outputs": [],
   "source": [
    "# Print the config.json file\n",
    "with open(\"./.azureml/config.json\",\"r\") as f:\n",
    "    print(f.read())"
   ]
  },
  {
   "cell_type": "markdown",
   "metadata": {},
   "source": [
    "This saved configuration file enables you to easily obtain a reference to the workspace by simply loading it, as demonstrated in the following cell. Note that this method will prompt you to reauthenticate against your Azure subscription if your session has expired."
   ]
  },
  {
   "cell_type": "code",
   "execution_count": null,
   "metadata": {},
   "outputs": [],
   "source": [
    "from azureml.core import Workspace\n",
    "\n",
    "ws = Workspace.from_config()\n",
    "print(ws.name, \"loaded\")"
   ]
  },
  {
   "cell_type": "markdown",
   "metadata": {},
   "source": [
    "## Task 4: Run an Experiment\n",
    "\n",
    "Let's see how Azure ML can help track metrics from a simple experiment that uses Python code to examine some data.\n",
    "\n",
    "In this case, you'll use a simple dataset that contains details of patients that have been tested for diabetes. You'll run an experiment to explore the data, extracting statistics, visualizations, and data samples. With the addition of a few lines, the code uses an Azure ML *experiment* to log details of the run."
   ]
  },
  {
   "cell_type": "code",
   "execution_count": null,
   "metadata": {
    "scrolled": true
   },
   "outputs": [],
   "source": [
    "from azureml.core import Experiment, Run\n",
    "import pandas as pd\n",
    "import matplotlib.pyplot as plt\n",
    "%matplotlib inline \n",
    "\n",
    "# Create an Azure ML experiment in your workspace\n",
    "experiment = Experiment(workspace = ws, name = \"diabetes-experiment\")\n",
    "print(\"Starting experiment:\", experiment.name)\n",
    "\n",
    "# Start logging data from the experiment\n",
    "run = experiment.start_logging()\n",
    "\n",
    "# load the diabetes dataset\n",
    "data = pd.read_csv('data/diabetes.csv')\n",
    "\n",
    "# Count the rows and log the result\n",
    "row_count = (len(data))\n",
    "run.log(\"observations\", row_count)\n",
    "\n",
    "# Create box plots for each feature variable by the \"diabetic\" label and log them\n",
    "num_cols = data.columns[:-1]\n",
    "for col in num_cols:\n",
    "    fig = plt.figure(figsize=(9, 6))\n",
    "    ax = fig.gca()\n",
    "    data.boxplot(column = col, by = \"Diabetic\", ax = ax)\n",
    "    ax.set_title(col + ' by Diabetic')\n",
    "    ax.set_ylabel(col)\n",
    "    run.log_image(name = col, plot = fig)\n",
    "plt.show()\n",
    "\n",
    "# Create a list of mean diabetes pedigree per age and log it\n",
    "mean_by_age = data[[\"Age\", \"DiabetesPedigree\"]].groupby([\"Age\"]).mean().reset_index()\n",
    "ages = mean_by_age[\"Age\"].tolist()\n",
    "pedigrees = mean_by_age[\"DiabetesPedigree\"].tolist()\n",
    "for index in range(len(ages)):\n",
    "       run.log_row(\"Mean Diabetes Pedigree by Age\", Age = ages[index],Diabetes_Pedigree = pedigrees[index])\n",
    "\n",
    "# Save a sample of the data and upload it to the experiment output\n",
    "data.sample(100).to_csv(\"sample.csv\", index=False, header=True)\n",
    "run.upload_file(name = 'outputs/sample.csv', path_or_stream = './sample.csv')\n",
    "\n",
    "# Complete tracking and get link to details\n",
    "run.complete()\n"
   ]
  },
  {
   "cell_type": "markdown",
   "metadata": {},
   "source": [
    "## Task 5: View Experiment Results\n",
    "\n",
    "After the experiment has been finished, you can view the results. Start by running the following cell:"
   ]
  },
  {
   "cell_type": "code",
   "execution_count": null,
   "metadata": {},
   "outputs": [],
   "source": [
    "run"
   ]
  },
  {
   "cell_type": "markdown",
   "metadata": {},
   "source": [
    "*Don't worry if the status is still **Running**, it can take a while to update. Eventually it will be set to **Completed**.*\n",
    "\n",
    "Note that the experiment has been assigned a unique ID, and the output includes a link to a details page in the Azure portal. Click this link to open a new browser tab and view the experiment run details, noting the following:\n",
    "\n",
    "On the **Details** tab:\n",
    "\n",
    "- The **Tracked Metrics** list includes the *observations* value (the number of records in the dataset), an image for each matplotlib plot that was generated, and a \n",
    "table for the mean diabetes pedigree by age.\n",
    "- The *Mean Diabetes Pedigree by Age* table is plotted as a chart.\n",
    "- Each matplotlib plot image is shown.\n",
    "\n",
    "On the **Outputs** tab:\n",
    "\n",
    "- The ouputs generated by the experiment are listed - including each of the plot images and a CSV file containing a sample of the data used in the experiment.\n",
    "\n",
    "Clicking **Back to Experiment** shows a page for this experiment with a list of all previous runs (in this case, there's only been one). This enables you to track multiple runs of the same experiment so you can observe variations in the metrics produced based on parameters or random data variation.\n",
    "\n",
    "The **Experiments** tab in your Azure ML Workspace lists all of the experiments that have been run in the workspace.\n",
    "\n",
    "> **More Information**: To find out more about running experiments, see [this topic](https://docs.microsoft.com/en-us/azure/machine-learning/service/how-to-manage-runs) in the Azure ML documentation. For details of how to log metrics in a run, see [this topic](https://docs.microsoft.com/en-us/azure/machine-learning/service/how-to-track-experiments)."
   ]
  }
 ],
 "metadata": {
  "kernelspec": {
   "display_name": "Python 3",
   "language": "python",
   "name": "python3"
  },
  "language_info": {
   "codemirror_mode": {
    "name": "ipython",
    "version": 3
   },
   "file_extension": ".py",
   "mimetype": "text/x-python",
   "name": "python",
   "nbconvert_exporter": "python",
   "pygments_lexer": "ipython3",
   "version": "3.7.4"
  }
 },
 "nbformat": 4,
 "nbformat_minor": 2
}
