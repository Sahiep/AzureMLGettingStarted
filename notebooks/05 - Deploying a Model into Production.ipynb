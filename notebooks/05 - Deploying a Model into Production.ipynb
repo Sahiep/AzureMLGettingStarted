{
 "cells": [
  {
   "cell_type": "markdown",
   "metadata": {},
   "source": [
    "# Exercise 5 - Deploying a Model into Production\n",
    "\n",
    "In [the previous exercise](./03%20-%20Compute%20Contexts.ipynb), you explored options for running experiments on local and remote compute to train machine learning models. Int his exercise, you'll build on that work and deploy a model as a production web service.\n",
    "\n",
    "> **Important**: This exercise assumes you have completed the previous exercises in this series - specifically, you must have:\n",
    ">\n",
    "> - Created an Azure ML Workspace.\n",
    "> - Uploaded the diabetes.csv data file to the workspace's default datastore.\n",
    "> - Registered a **Diabetes Dataset** dataset in the workspace.\n",
    "> - Trained and registered at least one **diabetes_model** model in the workspace.\n",
    ">\n",
    "> If you haven't done that, what are you waiting for?\n",
    "\n",
    "## Task 1: Connect to Your Workspace\n",
    "\n",
    "The first thing you need to do is to connect to your workspace using the Azure ML SDK. Let's start by ensuring you still have the latest version installed (if you ended and restarted your Azure Notebooks session, the environment may have been reset)"
   ]
  },
  {
   "cell_type": "code",
   "execution_count": 1,
   "metadata": {},
   "outputs": [
    {
     "name": "stdout",
     "output_type": "stream",
     "text": [
      "Requirement already up-to-date: azureml-sdk[notebooks] in c:\\users\\sahieple\\appdata\\local\\continuum\\miniconda3\\envs\\azure_ml\\lib\\site-packages (1.0.69)\n",
      "Requirement already satisfied, skipping upgrade: azureml-pipeline==1.0.69.* in c:\\users\\sahieple\\appdata\\local\\continuum\\miniconda3\\envs\\azure_ml\\lib\\site-packages (from azureml-sdk[notebooks]) (1.0.69)\n",
      "Requirement already satisfied, skipping upgrade: azureml-core==1.0.69.* in c:\\users\\sahieple\\appdata\\local\\continuum\\miniconda3\\envs\\azure_ml\\lib\\site-packages (from azureml-sdk[notebooks]) (1.0.69)\n",
      "Requirement already satisfied, skipping upgrade: azureml-dataprep[fuse]<1.2.0a,>=1.1.20a in c:\\users\\sahieple\\appdata\\local\\continuum\\miniconda3\\envs\\azure_ml\\lib\\site-packages (from azureml-sdk[notebooks]) (1.1.23)\n",
      "Requirement already satisfied, skipping upgrade: azureml-train==1.0.69.* in c:\\users\\sahieple\\appdata\\local\\continuum\\miniconda3\\envs\\azure_ml\\lib\\site-packages (from azureml-sdk[notebooks]) (1.0.69)\n",
      "Requirement already satisfied, skipping upgrade: azureml-contrib-notebook==1.0.69.*; extra == \"notebooks\" in c:\\users\\sahieple\\appdata\\local\\continuum\\miniconda3\\envs\\azure_ml\\lib\\site-packages (from azureml-sdk[notebooks]) (1.0.69)\n",
      "Requirement already satisfied, skipping upgrade: azureml-widgets==1.0.69.*; extra == \"notebooks\" in c:\\users\\sahieple\\appdata\\local\\continuum\\miniconda3\\envs\\azure_ml\\lib\\site-packages (from azureml-sdk[notebooks]) (1.0.69.1)\n",
      "Requirement already satisfied, skipping upgrade: azureml-pipeline-core==1.0.69.* in c:\\users\\sahieple\\appdata\\local\\continuum\\miniconda3\\envs\\azure_ml\\lib\\site-packages (from azureml-pipeline==1.0.69.*->azureml-sdk[notebooks]) (1.0.69)\n",
      "Requirement already satisfied, skipping upgrade: azureml-pipeline-steps==1.0.69.* in c:\\users\\sahieple\\appdata\\local\\continuum\\miniconda3\\envs\\azure_ml\\lib\\site-packages (from azureml-pipeline==1.0.69.*->azureml-sdk[notebooks]) (1.0.69)\n",
      "Requirement already satisfied, skipping upgrade: pyopenssl in c:\\users\\sahieple\\appdata\\local\\continuum\\miniconda3\\envs\\azure_ml\\lib\\site-packages (from azureml-core==1.0.69.*->azureml-sdk[notebooks]) (19.0.0)\n",
      "Requirement already satisfied, skipping upgrade: requests>=2.19.1 in c:\\users\\sahieple\\appdata\\local\\continuum\\miniconda3\\envs\\azure_ml\\lib\\site-packages (from azureml-core==1.0.69.*->azureml-sdk[notebooks]) (2.22.0)\n",
      "Requirement already satisfied, skipping upgrade: jmespath in c:\\users\\sahieple\\appdata\\local\\continuum\\miniconda3\\envs\\azure_ml\\lib\\site-packages (from azureml-core==1.0.69.*->azureml-sdk[notebooks]) (0.9.4)\n",
      "Requirement already satisfied, skipping upgrade: urllib3>=1.23 in c:\\users\\sahieple\\appdata\\local\\continuum\\miniconda3\\envs\\azure_ml\\lib\\site-packages (from azureml-core==1.0.69.*->azureml-sdk[notebooks]) (1.25.6)\n",
      "Requirement already satisfied, skipping upgrade: azure-mgmt-storage>=1.5.0 in c:\\users\\sahieple\\appdata\\local\\continuum\\miniconda3\\envs\\azure_ml\\lib\\site-packages (from azureml-core==1.0.69.*->azureml-sdk[notebooks]) (4.2.0)\n",
      "Requirement already satisfied, skipping upgrade: msrest>=0.5.1 in c:\\users\\sahieple\\appdata\\local\\continuum\\miniconda3\\envs\\azure_ml\\lib\\site-packages (from azureml-core==1.0.69.*->azureml-sdk[notebooks]) (0.6.10)\n",
      "Requirement already satisfied, skipping upgrade: azure-mgmt-keyvault>=0.40.0 in c:\\users\\sahieple\\appdata\\local\\continuum\\miniconda3\\envs\\azure_ml\\lib\\site-packages (from azureml-core==1.0.69.*->azureml-sdk[notebooks]) (2.0.0)\n",
      "Requirement already satisfied, skipping upgrade: cryptography!=1.9,!=2.0.*,!=2.1.*,!=2.2.* in c:\\users\\sahieple\\appdata\\local\\continuum\\miniconda3\\envs\\azure_ml\\lib\\site-packages (from azureml-core==1.0.69.*->azureml-sdk[notebooks]) (2.7)\n",
      "Requirement already satisfied, skipping upgrade: PyJWT in c:\\users\\sahieple\\appdata\\local\\continuum\\miniconda3\\envs\\azure_ml\\lib\\site-packages (from azureml-core==1.0.69.*->azureml-sdk[notebooks]) (1.7.1)\n",
      "Requirement already satisfied, skipping upgrade: azure-mgmt-containerregistry>=2.0.0 in c:\\users\\sahieple\\appdata\\local\\continuum\\miniconda3\\envs\\azure_ml\\lib\\site-packages (from azureml-core==1.0.69.*->azureml-sdk[notebooks]) (2.8.0)\n",
      "Requirement already satisfied, skipping upgrade: azure-graphrbac>=0.40.0 in c:\\users\\sahieple\\appdata\\local\\continuum\\miniconda3\\envs\\azure_ml\\lib\\site-packages (from azureml-core==1.0.69.*->azureml-sdk[notebooks]) (0.61.1)\n",
      "Requirement already satisfied, skipping upgrade: six>=1.11.0 in c:\\users\\sahieple\\appdata\\local\\continuum\\miniconda3\\envs\\azure_ml\\lib\\site-packages (from azureml-core==1.0.69.*->azureml-sdk[notebooks]) (1.12.0)\n",
      "Requirement already satisfied, skipping upgrade: pathspec in c:\\users\\sahieple\\appdata\\local\\continuum\\miniconda3\\envs\\azure_ml\\lib\\site-packages (from azureml-core==1.0.69.*->azureml-sdk[notebooks]) (0.6.0)\n",
      "Requirement already satisfied, skipping upgrade: ndg-httpsclient in c:\\users\\sahieple\\appdata\\local\\continuum\\miniconda3\\envs\\azure_ml\\lib\\site-packages (from azureml-core==1.0.69.*->azureml-sdk[notebooks]) (0.5.1)\n",
      "Requirement already satisfied, skipping upgrade: backports.tempfile in c:\\users\\sahieple\\appdata\\local\\continuum\\miniconda3\\envs\\azure_ml\\lib\\site-packages (from azureml-core==1.0.69.*->azureml-sdk[notebooks]) (1.0)\n",
      "Requirement already satisfied, skipping upgrade: python-dateutil>=2.7.3 in c:\\users\\sahieple\\appdata\\local\\continuum\\miniconda3\\envs\\azure_ml\\lib\\site-packages (from azureml-core==1.0.69.*->azureml-sdk[notebooks]) (2.8.0)\n",
      "Requirement already satisfied, skipping upgrade: ruamel.yaml<=0.15.89,>=0.15.35 in c:\\users\\sahieple\\appdata\\local\\continuum\\miniconda3\\envs\\azure_ml\\lib\\site-packages (from azureml-core==1.0.69.*->azureml-sdk[notebooks]) (0.15.89)\n",
      "Requirement already satisfied, skipping upgrade: jsonpickle in c:\\users\\sahieple\\appdata\\local\\continuum\\miniconda3\\envs\\azure_ml\\lib\\site-packages (from azureml-core==1.0.69.*->azureml-sdk[notebooks]) (1.2)\n",
      "Requirement already satisfied, skipping upgrade: azure-mgmt-authorization>=0.40.0 in c:\\users\\sahieple\\appdata\\local\\continuum\\miniconda3\\envs\\azure_ml\\lib\\site-packages (from azureml-core==1.0.69.*->azureml-sdk[notebooks]) (0.60.0)\n",
      "Requirement already satisfied, skipping upgrade: docker in c:\\users\\sahieple\\appdata\\local\\continuum\\miniconda3\\envs\\azure_ml\\lib\\site-packages (from azureml-core==1.0.69.*->azureml-sdk[notebooks]) (4.1.0)\n",
      "Requirement already satisfied, skipping upgrade: azure-mgmt-resource>=1.2.1 in c:\\users\\sahieple\\appdata\\local\\continuum\\miniconda3\\envs\\azure_ml\\lib\\site-packages (from azureml-core==1.0.69.*->azureml-sdk[notebooks]) (5.1.0)\n",
      "Requirement already satisfied, skipping upgrade: pytz in c:\\users\\sahieple\\appdata\\local\\continuum\\miniconda3\\envs\\azure_ml\\lib\\site-packages (from azureml-core==1.0.69.*->azureml-sdk[notebooks]) (2019.3)\n",
      "Requirement already satisfied, skipping upgrade: contextlib2 in c:\\users\\sahieple\\appdata\\local\\continuum\\miniconda3\\envs\\azure_ml\\lib\\site-packages (from azureml-core==1.0.69.*->azureml-sdk[notebooks]) (0.6.0.post1)\n",
      "Requirement already satisfied, skipping upgrade: msrestazure>=0.4.33 in c:\\users\\sahieple\\appdata\\local\\continuum\\miniconda3\\envs\\azure_ml\\lib\\site-packages (from azureml-core==1.0.69.*->azureml-sdk[notebooks]) (0.6.2)\n",
      "Requirement already satisfied, skipping upgrade: SecretStorage in c:\\users\\sahieple\\appdata\\local\\continuum\\miniconda3\\envs\\azure_ml\\lib\\site-packages (from azureml-core==1.0.69.*->azureml-sdk[notebooks]) (3.1.1)\n",
      "Requirement already satisfied, skipping upgrade: azure-common>=1.1.12 in c:\\users\\sahieple\\appdata\\local\\continuum\\miniconda3\\envs\\azure_ml\\lib\\site-packages (from azureml-core==1.0.69.*->azureml-sdk[notebooks]) (1.1.23)\n",
      "Requirement already satisfied, skipping upgrade: adal>=1.2.0 in c:\\users\\sahieple\\appdata\\local\\continuum\\miniconda3\\envs\\azure_ml\\lib\\site-packages (from azureml-core==1.0.69.*->azureml-sdk[notebooks]) (1.2.2)\n",
      "Requirement already satisfied, skipping upgrade: cloudpickle>=1.1.0 in c:\\users\\sahieple\\appdata\\local\\continuum\\miniconda3\\envs\\azure_ml\\lib\\site-packages (from azureml-dataprep[fuse]<1.2.0a,>=1.1.20a->azureml-sdk[notebooks]) (1.2.2)\n",
      "Requirement already satisfied, skipping upgrade: azureml-dataprep-native<14.0.0,>=13.1.0 in c:\\users\\sahieple\\appdata\\local\\continuum\\miniconda3\\envs\\azure_ml\\lib\\site-packages (from azureml-dataprep[fuse]<1.2.0a,>=1.1.20a->azureml-sdk[notebooks]) (13.1.0)\n",
      "Requirement already satisfied, skipping upgrade: dotnetcore2>=2.1.9 in c:\\users\\sahieple\\appdata\\local\\continuum\\miniconda3\\envs\\azure_ml\\lib\\site-packages (from azureml-dataprep[fuse]<1.2.0a,>=1.1.20a->azureml-sdk[notebooks]) (2.1.9)\n",
      "Requirement already satisfied, skipping upgrade: fusepy>=3.0.1; extra == \"fuse\" in c:\\users\\sahieple\\appdata\\local\\continuum\\miniconda3\\envs\\azure_ml\\lib\\site-packages (from azureml-dataprep[fuse]<1.2.0a,>=1.1.20a->azureml-sdk[notebooks]) (3.0.1)\n",
      "Requirement already satisfied, skipping upgrade: azureml-train-core==1.0.69.* in c:\\users\\sahieple\\appdata\\local\\continuum\\miniconda3\\envs\\azure_ml\\lib\\site-packages (from azureml-train==1.0.69.*->azureml-sdk[notebooks]) (1.0.69)\n",
      "Requirement already satisfied, skipping upgrade: ipykernel in c:\\users\\sahieple\\appdata\\local\\continuum\\miniconda3\\envs\\azure_ml\\lib\\site-packages (from azureml-contrib-notebook==1.0.69.*; extra == \"notebooks\"->azureml-sdk[notebooks]) (5.1.2)\n",
      "Requirement already satisfied, skipping upgrade: ipython in c:\\users\\sahieple\\appdata\\local\\continuum\\miniconda3\\envs\\azure_ml\\lib\\site-packages (from azureml-contrib-notebook==1.0.69.*; extra == \"notebooks\"->azureml-sdk[notebooks]) (7.8.0)\n",
      "Requirement already satisfied, skipping upgrade: papermill in c:\\users\\sahieple\\appdata\\local\\continuum\\miniconda3\\envs\\azure_ml\\lib\\site-packages (from azureml-contrib-notebook==1.0.69.*; extra == \"notebooks\"->azureml-sdk[notebooks]) (1.2.0)\n",
      "Requirement already satisfied, skipping upgrade: azureml-telemetry==1.0.69.* in c:\\users\\sahieple\\appdata\\local\\continuum\\miniconda3\\envs\\azure_ml\\lib\\site-packages (from azureml-widgets==1.0.69.*; extra == \"notebooks\"->azureml-sdk[notebooks]) (1.0.69)\n",
      "Requirement already satisfied, skipping upgrade: ipywidgets>=7.0.0 in c:\\users\\sahieple\\appdata\\local\\continuum\\miniconda3\\envs\\azure_ml\\lib\\site-packages (from azureml-widgets==1.0.69.*; extra == \"notebooks\"->azureml-sdk[notebooks]) (7.5.1)\n",
      "Requirement already satisfied, skipping upgrade: idna<2.9,>=2.5 in c:\\users\\sahieple\\appdata\\local\\continuum\\miniconda3\\envs\\azure_ml\\lib\\site-packages (from requests>=2.19.1->azureml-core==1.0.69.*->azureml-sdk[notebooks]) (2.8)\n",
      "Requirement already satisfied, skipping upgrade: chardet<3.1.0,>=3.0.2 in c:\\users\\sahieple\\appdata\\local\\continuum\\miniconda3\\envs\\azure_ml\\lib\\site-packages (from requests>=2.19.1->azureml-core==1.0.69.*->azureml-sdk[notebooks]) (3.0.4)\n",
      "Requirement already satisfied, skipping upgrade: certifi>=2017.4.17 in c:\\users\\sahieple\\appdata\\local\\continuum\\miniconda3\\envs\\azure_ml\\lib\\site-packages (from requests>=2.19.1->azureml-core==1.0.69.*->azureml-sdk[notebooks]) (2019.9.11)\n",
      "Requirement already satisfied, skipping upgrade: isodate>=0.6.0 in c:\\users\\sahieple\\appdata\\local\\continuum\\miniconda3\\envs\\azure_ml\\lib\\site-packages (from msrest>=0.5.1->azureml-core==1.0.69.*->azureml-sdk[notebooks]) (0.6.0)\n",
      "Requirement already satisfied, skipping upgrade: requests-oauthlib>=0.5.0 in c:\\users\\sahieple\\appdata\\local\\continuum\\miniconda3\\envs\\azure_ml\\lib\\site-packages (from msrest>=0.5.1->azureml-core==1.0.69.*->azureml-sdk[notebooks]) (1.2.0)\n",
      "Requirement already satisfied, skipping upgrade: asn1crypto>=0.21.0 in c:\\users\\sahieple\\appdata\\local\\continuum\\miniconda3\\envs\\azure_ml\\lib\\site-packages (from cryptography!=1.9,!=2.0.*,!=2.1.*,!=2.2.*->azureml-core==1.0.69.*->azureml-sdk[notebooks]) (1.2.0)\n",
      "Requirement already satisfied, skipping upgrade: cffi!=1.11.3,>=1.8 in c:\\users\\sahieple\\appdata\\local\\continuum\\miniconda3\\envs\\azure_ml\\lib\\site-packages (from cryptography!=1.9,!=2.0.*,!=2.1.*,!=2.2.*->azureml-core==1.0.69.*->azureml-sdk[notebooks]) (1.13.0)\n",
      "Requirement already satisfied, skipping upgrade: pyasn1>=0.1.1 in c:\\users\\sahieple\\appdata\\local\\continuum\\miniconda3\\envs\\azure_ml\\lib\\site-packages (from ndg-httpsclient->azureml-core==1.0.69.*->azureml-sdk[notebooks]) (0.4.7)\n",
      "Requirement already satisfied, skipping upgrade: backports.weakref in c:\\users\\sahieple\\appdata\\local\\continuum\\miniconda3\\envs\\azure_ml\\lib\\site-packages (from backports.tempfile->azureml-core==1.0.69.*->azureml-sdk[notebooks]) (1.0.post1)\n",
      "Requirement already satisfied, skipping upgrade: pypiwin32==223; sys_platform == \"win32\" and python_version >= \"3.6\" in c:\\users\\sahieple\\appdata\\local\\continuum\\miniconda3\\envs\\azure_ml\\lib\\site-packages (from docker->azureml-core==1.0.69.*->azureml-sdk[notebooks]) (223)\n",
      "Requirement already satisfied, skipping upgrade: websocket-client>=0.32.0 in c:\\users\\sahieple\\appdata\\local\\continuum\\miniconda3\\envs\\azure_ml\\lib\\site-packages (from docker->azureml-core==1.0.69.*->azureml-sdk[notebooks]) (0.56.0)\n",
      "Requirement already satisfied, skipping upgrade: jeepney in c:\\users\\sahieple\\appdata\\local\\continuum\\miniconda3\\envs\\azure_ml\\lib\\site-packages (from SecretStorage->azureml-core==1.0.69.*->azureml-sdk[notebooks]) (0.4.1)\n",
      "Requirement already satisfied, skipping upgrade: distro>=1.2.0 in c:\\users\\sahieple\\appdata\\local\\continuum\\miniconda3\\envs\\azure_ml\\lib\\site-packages (from dotnetcore2>=2.1.9->azureml-dataprep[fuse]<1.2.0a,>=1.1.20a->azureml-sdk[notebooks]) (1.4.0)\n",
      "Requirement already satisfied, skipping upgrade: azureml-train-restclients-hyperdrive==1.0.69.* in c:\\users\\sahieple\\appdata\\local\\continuum\\miniconda3\\envs\\azure_ml\\lib\\site-packages (from azureml-train-core==1.0.69.*->azureml-train==1.0.69.*->azureml-sdk[notebooks]) (1.0.69)\n",
      "Requirement already satisfied, skipping upgrade: traitlets>=4.1.0 in c:\\users\\sahieple\\appdata\\local\\continuum\\miniconda3\\envs\\azure_ml\\lib\\site-packages (from ipykernel->azureml-contrib-notebook==1.0.69.*; extra == \"notebooks\"->azureml-sdk[notebooks]) (4.3.3)\n",
      "Requirement already satisfied, skipping upgrade: jupyter-client in c:\\users\\sahieple\\appdata\\local\\continuum\\miniconda3\\envs\\azure_ml\\lib\\site-packages (from ipykernel->azureml-contrib-notebook==1.0.69.*; extra == \"notebooks\"->azureml-sdk[notebooks]) (5.3.4)\n",
      "Requirement already satisfied, skipping upgrade: tornado>=4.2 in c:\\users\\sahieple\\appdata\\local\\continuum\\miniconda3\\envs\\azure_ml\\lib\\site-packages (from ipykernel->azureml-contrib-notebook==1.0.69.*; extra == \"notebooks\"->azureml-sdk[notebooks]) (6.0.3)\n",
      "Requirement already satisfied, skipping upgrade: setuptools>=18.5 in c:\\users\\sahieple\\appdata\\local\\continuum\\miniconda3\\envs\\azure_ml\\lib\\site-packages (from ipython->azureml-contrib-notebook==1.0.69.*; extra == \"notebooks\"->azureml-sdk[notebooks]) (41.4.0)\n",
      "Requirement already satisfied, skipping upgrade: colorama; sys_platform == \"win32\" in c:\\users\\sahieple\\appdata\\local\\continuum\\miniconda3\\envs\\azure_ml\\lib\\site-packages (from ipython->azureml-contrib-notebook==1.0.69.*; extra == \"notebooks\"->azureml-sdk[notebooks]) (0.4.1)\n",
      "Requirement already satisfied, skipping upgrade: jedi>=0.10 in c:\\users\\sahieple\\appdata\\local\\continuum\\miniconda3\\envs\\azure_ml\\lib\\site-packages (from ipython->azureml-contrib-notebook==1.0.69.*; extra == \"notebooks\"->azureml-sdk[notebooks]) (0.15.1)\n",
      "Requirement already satisfied, skipping upgrade: backcall in c:\\users\\sahieple\\appdata\\local\\continuum\\miniconda3\\envs\\azure_ml\\lib\\site-packages (from ipython->azureml-contrib-notebook==1.0.69.*; extra == \"notebooks\"->azureml-sdk[notebooks]) (0.1.0)\n",
      "Requirement already satisfied, skipping upgrade: decorator in c:\\users\\sahieple\\appdata\\local\\continuum\\miniconda3\\envs\\azure_ml\\lib\\site-packages (from ipython->azureml-contrib-notebook==1.0.69.*; extra == \"notebooks\"->azureml-sdk[notebooks]) (4.4.0)\n",
      "Requirement already satisfied, skipping upgrade: prompt-toolkit<2.1.0,>=2.0.0 in c:\\users\\sahieple\\appdata\\local\\continuum\\miniconda3\\envs\\azure_ml\\lib\\site-packages (from ipython->azureml-contrib-notebook==1.0.69.*; extra == \"notebooks\"->azureml-sdk[notebooks]) (2.0.10)\n",
      "Requirement already satisfied, skipping upgrade: pygments in c:\\users\\sahieple\\appdata\\local\\continuum\\miniconda3\\envs\\azure_ml\\lib\\site-packages (from ipython->azureml-contrib-notebook==1.0.69.*; extra == \"notebooks\"->azureml-sdk[notebooks]) (2.4.2)\n",
      "Requirement already satisfied, skipping upgrade: pickleshare in c:\\users\\sahieple\\appdata\\local\\continuum\\miniconda3\\envs\\azure_ml\\lib\\site-packages (from ipython->azureml-contrib-notebook==1.0.69.*; extra == \"notebooks\"->azureml-sdk[notebooks]) (0.7.5)\n",
      "Requirement already satisfied, skipping upgrade: ansiwrap in c:\\users\\sahieple\\appdata\\local\\continuum\\miniconda3\\envs\\azure_ml\\lib\\site-packages (from papermill->azureml-contrib-notebook==1.0.69.*; extra == \"notebooks\"->azureml-sdk[notebooks]) (0.8.4)\n",
      "Requirement already satisfied, skipping upgrade: nbconvert>=5.5 in c:\\users\\sahieple\\appdata\\local\\continuum\\miniconda3\\envs\\azure_ml\\lib\\site-packages (from papermill->azureml-contrib-notebook==1.0.69.*; extra == \"notebooks\"->azureml-sdk[notebooks]) (5.6.0)\n",
      "Requirement already satisfied, skipping upgrade: tenacity in c:\\users\\sahieple\\appdata\\local\\continuum\\miniconda3\\envs\\azure_ml\\lib\\site-packages (from papermill->azureml-contrib-notebook==1.0.69.*; extra == \"notebooks\"->azureml-sdk[notebooks]) (5.1.1)\n",
      "Requirement already satisfied, skipping upgrade: pyyaml in c:\\users\\sahieple\\appdata\\local\\continuum\\miniconda3\\envs\\azure_ml\\lib\\site-packages (from papermill->azureml-contrib-notebook==1.0.69.*; extra == \"notebooks\"->azureml-sdk[notebooks]) (5.1.2)\n",
      "Requirement already satisfied, skipping upgrade: future in c:\\users\\sahieple\\appdata\\local\\continuum\\miniconda3\\envs\\azure_ml\\lib\\site-packages (from papermill->azureml-contrib-notebook==1.0.69.*; extra == \"notebooks\"->azureml-sdk[notebooks]) (0.18.0)\n",
      "Requirement already satisfied, skipping upgrade: entrypoints in c:\\users\\sahieple\\appdata\\local\\continuum\\miniconda3\\envs\\azure_ml\\lib\\site-packages (from papermill->azureml-contrib-notebook==1.0.69.*; extra == \"notebooks\"->azureml-sdk[notebooks]) (0.3)\n",
      "Requirement already satisfied, skipping upgrade: nbformat in c:\\users\\sahieple\\appdata\\local\\continuum\\miniconda3\\envs\\azure_ml\\lib\\site-packages (from papermill->azureml-contrib-notebook==1.0.69.*; extra == \"notebooks\"->azureml-sdk[notebooks]) (4.4.0)\n",
      "Requirement already satisfied, skipping upgrade: click in c:\\users\\sahieple\\appdata\\local\\continuum\\miniconda3\\envs\\azure_ml\\lib\\site-packages (from papermill->azureml-contrib-notebook==1.0.69.*; extra == \"notebooks\"->azureml-sdk[notebooks]) (7.0)\n",
      "Requirement already satisfied, skipping upgrade: tqdm>=4.32.2 in c:\\users\\sahieple\\appdata\\local\\continuum\\miniconda3\\envs\\azure_ml\\lib\\site-packages (from papermill->azureml-contrib-notebook==1.0.69.*; extra == \"notebooks\"->azureml-sdk[notebooks]) (4.36.1)\n",
      "Requirement already satisfied, skipping upgrade: applicationinsights in c:\\users\\sahieple\\appdata\\local\\continuum\\miniconda3\\envs\\azure_ml\\lib\\site-packages (from azureml-telemetry==1.0.69.*->azureml-widgets==1.0.69.*; extra == \"notebooks\"->azureml-sdk[notebooks]) (0.11.9)\n",
      "Requirement already satisfied, skipping upgrade: widgetsnbextension~=3.5.0 in c:\\users\\sahieple\\appdata\\local\\continuum\\miniconda3\\envs\\azure_ml\\lib\\site-packages (from ipywidgets>=7.0.0->azureml-widgets==1.0.69.*; extra == \"notebooks\"->azureml-sdk[notebooks]) (3.5.1)\n",
      "Requirement already satisfied, skipping upgrade: oauthlib>=3.0.0 in c:\\users\\sahieple\\appdata\\local\\continuum\\miniconda3\\envs\\azure_ml\\lib\\site-packages (from requests-oauthlib>=0.5.0->msrest>=0.5.1->azureml-core==1.0.69.*->azureml-sdk[notebooks]) (3.1.0)\n",
      "Requirement already satisfied, skipping upgrade: pycparser in c:\\users\\sahieple\\appdata\\local\\continuum\\miniconda3\\envs\\azure_ml\\lib\\site-packages (from cffi!=1.11.3,>=1.8->cryptography!=1.9,!=2.0.*,!=2.1.*,!=2.2.*->azureml-core==1.0.69.*->azureml-sdk[notebooks]) (2.19)\n",
      "Requirement already satisfied, skipping upgrade: pywin32>=223 in c:\\users\\sahieple\\appdata\\local\\continuum\\miniconda3\\envs\\azure_ml\\lib\\site-packages (from pypiwin32==223; sys_platform == \"win32\" and python_version >= \"3.6\"->docker->azureml-core==1.0.69.*->azureml-sdk[notebooks]) (225)\n",
      "Requirement already satisfied, skipping upgrade: ipython-genutils in c:\\users\\sahieple\\appdata\\local\\continuum\\miniconda3\\envs\\azure_ml\\lib\\site-packages (from traitlets>=4.1.0->ipykernel->azureml-contrib-notebook==1.0.69.*; extra == \"notebooks\"->azureml-sdk[notebooks]) (0.2.0)\n",
      "Requirement already satisfied, skipping upgrade: pyzmq>=13 in c:\\users\\sahieple\\appdata\\local\\continuum\\miniconda3\\envs\\azure_ml\\lib\\site-packages (from jupyter-client->ipykernel->azureml-contrib-notebook==1.0.69.*; extra == \"notebooks\"->azureml-sdk[notebooks]) (18.1.0)\n",
      "Requirement already satisfied, skipping upgrade: jupyter-core>=4.6.0 in c:\\users\\sahieple\\appdata\\local\\continuum\\miniconda3\\envs\\azure_ml\\lib\\site-packages (from jupyter-client->ipykernel->azureml-contrib-notebook==1.0.69.*; extra == \"notebooks\"->azureml-sdk[notebooks]) (4.6.0)\n",
      "Requirement already satisfied, skipping upgrade: parso>=0.5.0 in c:\\users\\sahieple\\appdata\\local\\continuum\\miniconda3\\envs\\azure_ml\\lib\\site-packages (from jedi>=0.10->ipython->azureml-contrib-notebook==1.0.69.*; extra == \"notebooks\"->azureml-sdk[notebooks]) (0.5.1)\n",
      "Requirement already satisfied, skipping upgrade: wcwidth in c:\\users\\sahieple\\appdata\\local\\continuum\\miniconda3\\envs\\azure_ml\\lib\\site-packages (from prompt-toolkit<2.1.0,>=2.0.0->ipython->azureml-contrib-notebook==1.0.69.*; extra == \"notebooks\"->azureml-sdk[notebooks]) (0.1.7)\n",
      "Requirement already satisfied, skipping upgrade: textwrap3>=0.9.2 in c:\\users\\sahieple\\appdata\\local\\continuum\\miniconda3\\envs\\azure_ml\\lib\\site-packages (from ansiwrap->papermill->azureml-contrib-notebook==1.0.69.*; extra == \"notebooks\"->azureml-sdk[notebooks]) (0.9.2)\n",
      "Requirement already satisfied, skipping upgrade: bleach in c:\\users\\sahieple\\appdata\\local\\continuum\\miniconda3\\envs\\azure_ml\\lib\\site-packages (from nbconvert>=5.5->papermill->azureml-contrib-notebook==1.0.69.*; extra == \"notebooks\"->azureml-sdk[notebooks]) (3.1.0)\n",
      "Requirement already satisfied, skipping upgrade: mistune<2,>=0.8.1 in c:\\users\\sahieple\\appdata\\local\\continuum\\miniconda3\\envs\\azure_ml\\lib\\site-packages (from nbconvert>=5.5->papermill->azureml-contrib-notebook==1.0.69.*; extra == \"notebooks\"->azureml-sdk[notebooks]) (0.8.4)\n",
      "Requirement already satisfied, skipping upgrade: jinja2>=2.4 in c:\\users\\sahieple\\appdata\\local\\continuum\\miniconda3\\envs\\azure_ml\\lib\\site-packages (from nbconvert>=5.5->papermill->azureml-contrib-notebook==1.0.69.*; extra == \"notebooks\"->azureml-sdk[notebooks]) (2.10.3)\n",
      "Requirement already satisfied, skipping upgrade: defusedxml in c:\\users\\sahieple\\appdata\\local\\continuum\\miniconda3\\envs\\azure_ml\\lib\\site-packages (from nbconvert>=5.5->papermill->azureml-contrib-notebook==1.0.69.*; extra == \"notebooks\"->azureml-sdk[notebooks]) (0.6.0)\n",
      "Requirement already satisfied, skipping upgrade: pandocfilters>=1.4.1 in c:\\users\\sahieple\\appdata\\local\\continuum\\miniconda3\\envs\\azure_ml\\lib\\site-packages (from nbconvert>=5.5->papermill->azureml-contrib-notebook==1.0.69.*; extra == \"notebooks\"->azureml-sdk[notebooks]) (1.4.2)\n",
      "Requirement already satisfied, skipping upgrade: testpath in c:\\users\\sahieple\\appdata\\local\\continuum\\miniconda3\\envs\\azure_ml\\lib\\site-packages (from nbconvert>=5.5->papermill->azureml-contrib-notebook==1.0.69.*; extra == \"notebooks\"->azureml-sdk[notebooks]) (0.4.2)\n",
      "Requirement already satisfied, skipping upgrade: jsonschema!=2.5.0,>=2.4 in c:\\users\\sahieple\\appdata\\local\\continuum\\miniconda3\\envs\\azure_ml\\lib\\site-packages (from nbformat->papermill->azureml-contrib-notebook==1.0.69.*; extra == \"notebooks\"->azureml-sdk[notebooks]) (3.1.1)\n",
      "Requirement already satisfied, skipping upgrade: notebook>=4.4.1 in c:\\users\\sahieple\\appdata\\local\\continuum\\miniconda3\\envs\\azure_ml\\lib\\site-packages (from widgetsnbextension~=3.5.0->ipywidgets>=7.0.0->azureml-widgets==1.0.69.*; extra == \"notebooks\"->azureml-sdk[notebooks]) (6.0.1)\n",
      "Requirement already satisfied, skipping upgrade: webencodings in c:\\users\\sahieple\\appdata\\local\\continuum\\miniconda3\\envs\\azure_ml\\lib\\site-packages (from bleach->nbconvert>=5.5->papermill->azureml-contrib-notebook==1.0.69.*; extra == \"notebooks\"->azureml-sdk[notebooks]) (0.5.1)\n",
      "Requirement already satisfied, skipping upgrade: MarkupSafe>=0.23 in c:\\users\\sahieple\\appdata\\local\\continuum\\miniconda3\\envs\\azure_ml\\lib\\site-packages (from jinja2>=2.4->nbconvert>=5.5->papermill->azureml-contrib-notebook==1.0.69.*; extra == \"notebooks\"->azureml-sdk[notebooks]) (1.1.1)\n",
      "Requirement already satisfied, skipping upgrade: importlib-metadata in c:\\users\\sahieple\\appdata\\local\\continuum\\miniconda3\\envs\\azure_ml\\lib\\site-packages (from jsonschema!=2.5.0,>=2.4->nbformat->papermill->azureml-contrib-notebook==1.0.69.*; extra == \"notebooks\"->azureml-sdk[notebooks]) (0.23)\n",
      "Requirement already satisfied, skipping upgrade: attrs>=17.4.0 in c:\\users\\sahieple\\appdata\\local\\continuum\\miniconda3\\envs\\azure_ml\\lib\\site-packages (from jsonschema!=2.5.0,>=2.4->nbformat->papermill->azureml-contrib-notebook==1.0.69.*; extra == \"notebooks\"->azureml-sdk[notebooks]) (19.3.0)\n",
      "Requirement already satisfied, skipping upgrade: pyrsistent>=0.14.0 in c:\\users\\sahieple\\appdata\\local\\continuum\\miniconda3\\envs\\azure_ml\\lib\\site-packages (from jsonschema!=2.5.0,>=2.4->nbformat->papermill->azureml-contrib-notebook==1.0.69.*; extra == \"notebooks\"->azureml-sdk[notebooks]) (0.15.4)\n",
      "Requirement already satisfied, skipping upgrade: prometheus-client in c:\\users\\sahieple\\appdata\\local\\continuum\\miniconda3\\envs\\azure_ml\\lib\\site-packages (from notebook>=4.4.1->widgetsnbextension~=3.5.0->ipywidgets>=7.0.0->azureml-widgets==1.0.69.*; extra == \"notebooks\"->azureml-sdk[notebooks]) (0.7.1)\n",
      "Requirement already satisfied, skipping upgrade: Send2Trash in c:\\users\\sahieple\\appdata\\local\\continuum\\miniconda3\\envs\\azure_ml\\lib\\site-packages (from notebook>=4.4.1->widgetsnbextension~=3.5.0->ipywidgets>=7.0.0->azureml-widgets==1.0.69.*; extra == \"notebooks\"->azureml-sdk[notebooks]) (1.5.0)\n",
      "Requirement already satisfied, skipping upgrade: terminado>=0.8.1 in c:\\users\\sahieple\\appdata\\local\\continuum\\miniconda3\\envs\\azure_ml\\lib\\site-packages (from notebook>=4.4.1->widgetsnbextension~=3.5.0->ipywidgets>=7.0.0->azureml-widgets==1.0.69.*; extra == \"notebooks\"->azureml-sdk[notebooks]) (0.8.2)\n",
      "Requirement already satisfied, skipping upgrade: zipp>=0.5 in c:\\users\\sahieple\\appdata\\local\\continuum\\miniconda3\\envs\\azure_ml\\lib\\site-packages (from importlib-metadata->jsonschema!=2.5.0,>=2.4->nbformat->papermill->azureml-contrib-notebook==1.0.69.*; extra == \"notebooks\"->azureml-sdk[notebooks]) (0.6.0)\n",
      "Requirement already satisfied, skipping upgrade: more-itertools in c:\\users\\sahieple\\appdata\\local\\continuum\\miniconda3\\envs\\azure_ml\\lib\\site-packages (from zipp>=0.5->importlib-metadata->jsonschema!=2.5.0,>=2.4->nbformat->papermill->azureml-contrib-notebook==1.0.69.*; extra == \"notebooks\"->azureml-sdk[notebooks]) (7.2.0)\n",
      "Ready to use Azure ML 1.0.69\n"
     ]
    }
   ],
   "source": [
    "!pip install --upgrade azureml-sdk[notebooks]\n",
    "\n",
    "import azureml.core\n",
    "print(\"Ready to use Azure ML\", azureml.core.VERSION)"
   ]
  },
  {
   "cell_type": "markdown",
   "metadata": {},
   "source": [
    "Now you're ready to connect to your workspace. When you created it in the previous exercise, you saved its configuration; so now you can simply load the workspace from its configuration file.\n",
    "\n",
    "> **Note**: If the authenticated session with your Azure subscription has expired since you completed the previous exercise, you'll be prompted to reauthenticate."
   ]
  },
  {
   "cell_type": "code",
   "execution_count": 2,
   "metadata": {},
   "outputs": [
    {
     "name": "stdout",
     "output_type": "stream",
     "text": [
      "Ready to work with ML_Service_Demo\n"
     ]
    }
   ],
   "source": [
    "from azureml.core import Workspace\n",
    "\n",
    "# Load the workspace from the saved config file\n",
    "ws = Workspace.from_config()\n",
    "print('Ready to work with', ws.name)"
   ]
  },
  {
   "cell_type": "markdown",
   "metadata": {},
   "source": [
    "## Task 2: Deploy a Model as a Web Service\n",
    "\n",
    "In the previous exercise, you trained and registered a machine learnming model that classifies patients based on the likelihood of them having diabetes. This model could be used in a production environment such as a doctor's surgery where only patients deemed to be at risk need to be subjected to a clinical test for diabetes. To support this scenario, you will deploy the model as a web service.\n",
    "\n",
    "First, let's determine what models you have registered in the workspace."
   ]
  },
  {
   "cell_type": "code",
   "execution_count": 3,
   "metadata": {},
   "outputs": [
    {
     "name": "stdout",
     "output_type": "stream",
     "text": [
      "diabetes_model version: 10\n",
      "\t Training context : remote compute\n",
      "\t AUC : 0.8568632924585982\n",
      "\t Accuracy : 0.7893333333333333\n",
      "\n",
      "\n",
      "diabetes_model version: 9\n",
      "\t Training context : remote compute\n",
      "\t AUC : 0.8568632924585982\n",
      "\t Accuracy : 0.7893333333333333\n",
      "\n",
      "\n",
      "diabetes_model version: 8\n",
      "\t Training context : remote compute\n",
      "\t AUC : 0.8568632924585982\n",
      "\t Accuracy : 0.7893333333333333\n",
      "\n",
      "\n",
      "diabetes_model version: 7\n",
      "\t Training context : Hyperdrive\n",
      "\t AUC : 0.856969468262725\n",
      "\t Accuracy : 0.7891111111111111\n",
      "\n",
      "\n",
      "scoring_explainer version: 1\n",
      "\n",
      "\n",
      "automl_model version: 1\n",
      "\n",
      "\n",
      "inception version: 1\n",
      "\t pretrained : inception\n",
      "\n",
      "\n",
      "diabetes_model version: 6\n",
      "\t Training context : Hyperdrive\n",
      "\t AUC : 0.8568562140716564\n",
      "\t Accuracy : 0.7891111111111111\n",
      "\n",
      "\n",
      "diabetes_model version: 5\n",
      "\t Training context : remote compute\n",
      "\t AUC : 0.8568632924585982\n",
      "\t Accuracy : 0.7893333333333333\n",
      "\n",
      "\n",
      "diabetes_model version: 4\n",
      "\t Training context : custom local environment\n",
      "\t AUC : 0.8568371909067503\n",
      "\t Accuracy : 0.7888888888888889\n",
      "\n",
      "\n",
      "diabetes_model version: 3\n",
      "\t Training context : Estimator (from Datasource)\n",
      "\t AUC : 0.8568484720859387\n",
      "\t Accuracy : 0.7891111111111111\n",
      "\n",
      "\n",
      "diabetes_model version: 2\n",
      "\t Training context : Estimator\n",
      "\t AUC : 0.8568515688802257\n",
      "\t Accuracy : 0.7893333333333333\n",
      "\n",
      "\n",
      "diabetes_model version: 1\n",
      "\t Training context : Experiment script\n",
      "\t AUC : 0.85685665647084\n",
      "\t Accuracy : 0.7891111111111111\n",
      "\n",
      "\n",
      "compliance-classifier version: 8\n",
      "\t type : classification\n",
      "\t run_id : 8a129288-febc-4a4e-8cb1-411e78f59ab0\n",
      "\t build_number : 20191002.6\n",
      "\n",
      "\n",
      "compliance-classifier version: 7\n",
      "\t type : classification\n",
      "\t run_id : 5ed15206-af37-4612-b803-2c59423e2bd2\n",
      "\t build_number : 20191002.5\n",
      "\n",
      "\n",
      "compliance-classifier version: 6\n",
      "\t type : classification\n",
      "\t run_id : 6479e0ef-ff08-4d92-8218-9564bda2cd35\n",
      "\t build_number : 20191002.4\n",
      "\n",
      "\n",
      "compliance-classifier version: 5\n",
      "\t type : classification\n",
      "\t run_id : 25b9b2dd-af91-460f-9ecc-65d2dd24a7f9\n",
      "\t build_number : 20191002.3\n",
      "\n",
      "\n",
      "compliance-classifier version: 4\n",
      "\t type : classification\n",
      "\t run_id : 370c80e1-5dfb-4a06-be8e-1c95e5c00e5c\n",
      "\t build_number : 20191002.2\n",
      "\n",
      "\n",
      "compliance-classifier version: 3\n",
      "\t type : classification\n",
      "\t run_id : 2c203100-c77a-4c7d-8b6c-4d17074d0734\n",
      "\t build_number : 20191002.1\n",
      "\n",
      "\n",
      "compliance-classifier version: 2\n",
      "\n",
      "\n",
      "compliance-classifier version: 1\n",
      "\t type : classification\n",
      "\t run_id : deep-learning_1570020996_2e3378b1\n",
      "\n",
      "\n"
     ]
    }
   ],
   "source": [
    "from azureml.core import Model\n",
    "\n",
    "for model in Model.list(ws):\n",
    "    print(model.name, 'version:', model.version)\n",
    "    for tag_name in model.tags:\n",
    "        tag = model.tags[tag_name]\n",
    "        print ('\\t',tag_name, ':', tag)\n",
    "    for prop_name in model.properties:\n",
    "        prop = model.properties[prop_name]\n",
    "        print ('\\t',prop_name, ':', prop)\n",
    "    print('\\n')"
   ]
  },
  {
   "cell_type": "markdown",
   "metadata": {},
   "source": [
    "Right, now let's get the model that we want to deploy. By default, if we specify a model name, the latest version will be returned."
   ]
  },
  {
   "cell_type": "code",
   "execution_count": 4,
   "metadata": {},
   "outputs": [
    {
     "name": "stdout",
     "output_type": "stream",
     "text": [
      "diabetes_model version 10\n"
     ]
    }
   ],
   "source": [
    "model = ws.models['diabetes_model']\n",
    "print(model.name, 'version', model.version)"
   ]
  },
  {
   "cell_type": "markdown",
   "metadata": {},
   "source": [
    "We're going to create a web service to host this model, and this will require some code and configuration files; so let's create a folder for those."
   ]
  },
  {
   "cell_type": "code",
   "execution_count": 5,
   "metadata": {},
   "outputs": [
    {
     "name": "stdout",
     "output_type": "stream",
     "text": [
      "diabetes_service folder created.\n"
     ]
    }
   ],
   "source": [
    "import os\n",
    "\n",
    "folder_name = 'diabetes_service'\n",
    "\n",
    "# Create a folder for the web service files\n",
    "experiment_folder = './' + folder_name\n",
    "os.makedirs(folder_name, exist_ok=True)\n",
    "\n",
    "print(folder_name, 'folder created.')"
   ]
  },
  {
   "cell_type": "markdown",
   "metadata": {},
   "source": [
    "The web service where we deploy the model will need some Python code to load the input data, get the model from the workspace, and generate and return predictions. We'll save this code in a *scoring* file that will be deployed to the web service:"
   ]
  },
  {
   "cell_type": "code",
   "execution_count": 6,
   "metadata": {},
   "outputs": [
    {
     "name": "stdout",
     "output_type": "stream",
     "text": [
      "Writing diabetes_service/score_diabetes.py\n"
     ]
    }
   ],
   "source": [
    "%%writefile $folder_name/score_diabetes.py\n",
    "import json\n",
    "import numpy as np\n",
    "import os\n",
    "import joblib\n",
    "from azureml.core.model import Model\n",
    "import azureml.train.automl # Required for AutoML models\n",
    "\n",
    "# Called when the service is loaded\n",
    "def init():\n",
    "    global model\n",
    "    # Get the path to the deployed model file and load it\n",
    "    model_path = Model.get_model_path('diabetes_model')\n",
    "    model = joblib.load(model_path)\n",
    "\n",
    "# Called when a request is received\n",
    "def run(raw_data):\n",
    "    # Get the input data - the features of patients to be classified.\n",
    "    data = json.loads(raw_data)['data']\n",
    "    # Get a prediction from the model\n",
    "    predictions = model.predict(data)\n",
    "    # Get the corresponding classname for each prediction (0 or 1)\n",
    "    classnames = ['not-diabetic', 'diabetic']\n",
    "    predicted_classes = []\n",
    "    for prediction in predictions:\n",
    "        predicted_classes.append(classnames[prediction])\n",
    "    # Return the predictions as JSON\n",
    "    return json.dumps(predicted_classes)"
   ]
  },
  {
   "cell_type": "markdown",
   "metadata": {},
   "source": [
    "The web service will be hosted in a container, and the container will need to install any required Python dependencies when it gets initialized. In this case, our scoring code requires **scikit-learn**, so we'll create a .yml file that tells the container host to install this into the environment."
   ]
  },
  {
   "cell_type": "code",
   "execution_count": 7,
   "metadata": {
    "scrolled": true
   },
   "outputs": [
    {
     "name": "stdout",
     "output_type": "stream",
     "text": [
      "Saved dependency info in diabetes_service/diabetes_env.yml\n",
      "# Conda environment specification. The dependencies defined in this file will\n",
      "\n",
      "# be automatically provisioned for runs with userManagedDependencies=False.\n",
      "\n",
      "\n",
      "# Details about the Conda environment file format:\n",
      "\n",
      "# https://conda.io/docs/user-guide/tasks/manage-environments.html#create-env-file-manually\n",
      "\n",
      "\n",
      "name: project_environment\n",
      "dependencies:\n",
      "  # The python interpreter version.\n",
      "\n",
      "  # Currently Azure ML only supports 3.5.2 and later.\n",
      "\n",
      "- python=3.6.2\n",
      "\n",
      "- pip:\n",
      "    # Required packages for AzureML execution, history, and data preparation.\n",
      "\n",
      "  - azureml-defaults\n",
      "\n",
      "  - azureml-sdk[automl]\n",
      "- scikit-learn\n",
      "channels:\n",
      "- conda-forge\n",
      "\n"
     ]
    }
   ],
   "source": [
    "from azureml.core.conda_dependencies import CondaDependencies \n",
    "\n",
    "# Add the dependencies for our model (AzureML defaults is already included)\n",
    "myenv = CondaDependencies()\n",
    "myenv.add_conda_package(\"scikit-learn\")\n",
    "myenv.add_pip_package(\"azureml-sdk[automl]\") # Required for AutoML models\n",
    "\n",
    "# Save the environment config as a .yml file\n",
    "env_file = folder_name + \"/diabetes_env.yml\"\n",
    "with open(env_file,\"w\") as f:\n",
    "    f.write(myenv.serialize_to_string())\n",
    "print(\"Saved dependency info in\", env_file)\n",
    "\n",
    "# Print the .yml file\n",
    "with open(env_file,\"r\") as f:\n",
    "    print(f.read())"
   ]
  },
  {
   "cell_type": "markdown",
   "metadata": {},
   "source": [
    "Now you're ready to deploy. We'll deploy the container a service named **diabetes-service**. The deployment process includes the following steps:\n",
    "\n",
    "1. Define an inference configuration, which includes the scoring and environment files required to load and use the model.\n",
    "2. Define a deployment configuration that defines the execution environment in which the service will be hosted. In this case, an Azure Container Instance.\n",
    "3. Deploy the model as a web service.\n",
    "4. Verify the status of the deployed service.\n",
    "\n",
    "> **More Information**: For more details about model deployment, and options for target execution environments, see the [documentation](https://docs.microsoft.com/en-gb/azure/machine-learning/service/how-to-deploy-and-where).\n",
    "\n",
    "Deployment will take some time as it first runs a process to create a container image, and then runs a process to create a web service based on the image. When deployment has completed successfully, you'll see a status of **Healthy**."
   ]
  },
  {
   "cell_type": "code",
   "execution_count": 8,
   "metadata": {},
   "outputs": [
    {
     "name": "stdout",
     "output_type": "stream",
     "text": [
      "Running...........................................................................................................\n",
      "SucceededACI service creation operation finished, operation \"Succeeded\"\n",
      "Healthy\n"
     ]
    }
   ],
   "source": [
    "from azureml.core.webservice import AciWebservice\n",
    "from azureml.core.model import InferenceConfig\n",
    "\n",
    "# Configure the scoring environment\n",
    "inference_config = InferenceConfig(runtime= \"python\",\n",
    "                                   source_directory = folder_name,\n",
    "                                   entry_script=\"score_diabetes.py\",\n",
    "                                   conda_file=\"diabetes_env.yml\")\n",
    "\n",
    "deployment_config = AciWebservice.deploy_configuration(cpu_cores = 1, memory_gb = 1)\n",
    "\n",
    "service_name = \"diabetes-service\"\n",
    "\n",
    "service = Model.deploy(ws, service_name, [model], inference_config, deployment_config)\n",
    "\n",
    "service.wait_for_deployment(True)\n",
    "print(service.state)"
   ]
  },
  {
   "cell_type": "markdown",
   "metadata": {},
   "source": [
    "Take a look at your workspace in the [Azure portal](https://portal.azure.com) and view the **Images** and **Deployments** tabs, which show the web service container images and deployed services respectively.\n",
    "\n",
    "You can also enumerate the web services using the following code:"
   ]
  },
  {
   "cell_type": "code",
   "execution_count": 9,
   "metadata": {},
   "outputs": [
    {
     "name": "stdout",
     "output_type": "stream",
     "text": [
      "diabetes-service\n",
      "model-scoring\n"
     ]
    }
   ],
   "source": [
    "for webservice_name in ws.webservices:\n",
    "    webservice = ws.webservices[webservice_name]\n",
    "    print(webservice.name)"
   ]
  },
  {
   "cell_type": "markdown",
   "metadata": {},
   "source": [
    "## Task 3: Use the Web Service\n",
    "\n",
    "With the service deployed, now you can consume it from a client application."
   ]
  },
  {
   "cell_type": "code",
   "execution_count": 10,
   "metadata": {},
   "outputs": [
    {
     "name": "stdout",
     "output_type": "stream",
     "text": [
      "Patient: [2, 180, 74, 24, 21, 23.9091702, 1.488172308, 22]\n",
      "not-diabetic\n"
     ]
    }
   ],
   "source": [
    "import json\n",
    "\n",
    "x_new = [[2,180,74,24,21,23.9091702,1.488172308,22]]\n",
    "print ('Patient: {}'.format(x_new[0]))\n",
    "\n",
    "# Convert the array to a serializable list in a JSON document\n",
    "input_json = json.dumps({\"data\": x_new})\n",
    "\n",
    "# Call the web service, passing the input data (the web service will also accept the data in binary format)\n",
    "predictions = service.run(input_data = input_json)\n",
    "\n",
    "# Get the predicted class - it'll be the first (and only) one.\n",
    "predicted_classes = json.loads(predictions)\n",
    "print(predicted_classes[0])"
   ]
  },
  {
   "cell_type": "markdown",
   "metadata": {},
   "source": [
    "You can also send multiple patient observations to the service, and get back a prediction for each one."
   ]
  },
  {
   "cell_type": "code",
   "execution_count": 11,
   "metadata": {},
   "outputs": [
    {
     "name": "stdout",
     "output_type": "stream",
     "text": [
      "Patient [2, 180, 74, 24, 21, 23.9091702, 1.488172308, 22] not-diabetic\n",
      "Patient [0, 148, 58, 11, 179, 39.19207553, 0.160829008, 45] not-diabetic\n"
     ]
    }
   ],
   "source": [
    "import json\n",
    "\n",
    "# This time our input is an array of two feature arrays\n",
    "x_new = [[2,180,74,24,21,23.9091702,1.488172308,22],\n",
    "         [0,148,58,11,179,39.19207553,0.160829008,45]]\n",
    "\n",
    "# Convert the array or arrays to a serializable list in a JSON document\n",
    "input_json = json.dumps({\"data\": x_new})\n",
    "\n",
    "# Call the web service, passing the input data\n",
    "predictions = service.run(input_data = input_json)\n",
    "\n",
    "# Get the predicted classes.\n",
    "predicted_classes = json.loads(predictions)\n",
    "   \n",
    "for i in range(len(x_new)):\n",
    "    print (\"Patient {}\".format(x_new[i]), predicted_classes[i] )"
   ]
  },
  {
   "cell_type": "markdown",
   "metadata": {},
   "source": [
    "The code above uses the Azure ML SDK to connect to the containerized web service and use it to generate predictions from your diabetes classification model. In production, a model is likely to be consumed by business applications that do not use the Azure ML SDK, but simply make HTTP requests to the web service.\n",
    "\n",
    "Let's determine the URL to which these applications must submit their requests:"
   ]
  },
  {
   "cell_type": "code",
   "execution_count": 12,
   "metadata": {},
   "outputs": [
    {
     "name": "stdout",
     "output_type": "stream",
     "text": [
      "http://58bc9ba6-1260-4db7-81ce-a8d3e6dfb9d6.westeurope.azurecontainer.io/score\n"
     ]
    }
   ],
   "source": [
    "endpoint = service.scoring_uri\n",
    "print(endpoint)"
   ]
  },
  {
   "cell_type": "markdown",
   "metadata": {},
   "source": [
    "Now that you know the endpoint URI, an application can simply make an HTTP request, sending the patient data in JSON (or binary) format, and receive back the predicted class(es)."
   ]
  },
  {
   "cell_type": "code",
   "execution_count": 13,
   "metadata": {
    "scrolled": true
   },
   "outputs": [
    {
     "name": "stdout",
     "output_type": "stream",
     "text": [
      "Patient [2, 180, 74, 24, 21, 23.9091702, 1.488172308, 22] not-diabetic\n",
      "Patient [0, 148, 58, 11, 179, 39.19207553, 0.160829008, 45] not-diabetic\n"
     ]
    }
   ],
   "source": [
    "import requests\n",
    "import json\n",
    "\n",
    "x_new = [[2,180,74,24,21,23.9091702,1.488172308,22],\n",
    "         [0,148,58,11,179,39.19207553,0.160829008,45]]\n",
    "\n",
    "# Convert the array to a serializable list in a JSON document\n",
    "input_json = json.dumps({\"data\": x_new})\n",
    "\n",
    "# Set the content type\n",
    "headers = { 'Content-Type':'application/json' }\n",
    "\n",
    "predictions = requests.post(endpoint, input_json, headers = headers)\n",
    "predicted_classes = json.loads(predictions.json())\n",
    "\n",
    "for i in range(len(x_new)):\n",
    "    print (\"Patient {}\".format(x_new[i]), predicted_classes[i] )"
   ]
  },
  {
   "cell_type": "code",
   "execution_count": null,
   "metadata": {},
   "outputs": [],
   "source": []
  }
 ],
 "metadata": {
  "kernelspec": {
   "display_name": "Python 3",
   "language": "python",
   "name": "python3"
  },
  "language_info": {
   "codemirror_mode": {
    "name": "ipython",
    "version": 3
   },
   "file_extension": ".py",
   "mimetype": "text/x-python",
   "name": "python",
   "nbconvert_exporter": "python",
   "pygments_lexer": "ipython3",
   "version": "3.7.4"
  }
 },
 "nbformat": 4,
 "nbformat_minor": 2
}
