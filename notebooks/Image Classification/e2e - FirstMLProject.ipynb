{
 "metadata": {
  "language_info": {
   "codemirror_mode": {
    "name": "ipython",
    "version": 3
   },
   "file_extension": ".py",
   "mimetype": "text/x-python",
   "name": "python",
   "nbconvert_exporter": "python",
   "pygments_lexer": "ipython3",
   "version": "3.8.3-final"
  },
  "orig_nbformat": 2,
  "kernelspec": {
   "name": "python3",
   "display_name": "Python 3",
   "language": "python"
  }
 },
 "nbformat": 4,
 "nbformat_minor": 2,
 "cells": [
  {
   "source": [
    "# End to end First Machine Learning Project"
   ],
   "cell_type": "markdown",
   "metadata": {}
  },
  {
   "source": [
    "## Task 1: Install the Azure ML SDK for Python\n",
    "The Azure ML SDK for Python provides classes you can use to work with Azure ML in your Azure subscription. Run the cell below to install the azureml-sdk Python package, including the optional notebooks component; which provides some functionality specific to the Jupyter Notebooks environment.\n",
    "\n",
    "More Information: For more details about installing the Azure ML SDK and its optional components, see the Azure ML SDK Documentation"
   ],
   "cell_type": "markdown",
   "metadata": {}
  },
  {
   "cell_type": "code",
   "execution_count": 3,
   "metadata": {},
   "outputs": [
    {
     "output_type": "stream",
     "name": "stdout",
     "text": [
      "Ready to use Azure ML 1.20.0\n"
     ]
    }
   ],
   "source": [
    "#!pip install azureml.core\n",
    "\n",
    "import azureml.core\n",
    "print(\"Ready to use Azure ML\", azureml.core.VERSION)"
   ]
  },
  {
   "cell_type": "code",
   "execution_count": 4,
   "metadata": {},
   "outputs": [
    {
     "output_type": "stream",
     "name": "stderr",
     "text": [
      "Warning: Falling back to use azure cli login credentials.\n",
      "If you run your code in unattended mode, i.e., where you can't give a user input, then we recommend to use ServicePrincipalAuthentication or MsiAuthentication.\n",
      "Please refer to aka.ms/aml-notebook-auth for different authentication mechanisms in azureml-sdk.\n",
      "Signed in\n"
     ]
    }
   ],
   "source": [
    "from azureml.core import authentication\n",
    "\n",
    "auth = authentication.InteractiveLoginAuthentication()\n",
    "print('Signed in')"
   ]
  },
  {
   "source": [
    "## Read in config file\n",
    "This saved configuration file enables you to easily obtain a reference to the workspace by simply loading it, as demonstrated in the following cell. Note that this method will prompt you to reauthenticate against your Azure subscription if your session has expired.\n"
   ],
   "cell_type": "markdown",
   "metadata": {}
  },
  {
   "cell_type": "code",
   "execution_count": 5,
   "metadata": {},
   "outputs": [
    {
     "output_type": "error",
     "ename": "UserErrorException",
     "evalue": "UserErrorException:\n\tMessage: We could not find config.json in: c:\\Projects\\AzureMLGettingStarted\\notebooks\\Image Classification or in its parent directories. Please provide the full path to the config file or ensure that config.json exists in the parent directories.\n\tInnerException None\n\tErrorResponse \n{\n    \"error\": {\n        \"code\": \"UserError\",\n        \"message\": \"We could not find config.json in: c:\\\\Projects\\\\AzureMLGettingStarted\\\\notebooks\\\\Image Classification or in its parent directories. Please provide the full path to the config file or ensure that config.json exists in the parent directories.\"\n    }\n}",
     "traceback": [
      "\u001b[1;31m---------------------------------------------------------------------------\u001b[0m",
      "\u001b[1;31mUserErrorException\u001b[0m                        Traceback (most recent call last)",
      "\u001b[1;32m<ipython-input-5-991ca1341e20>\u001b[0m in \u001b[0;36m<module>\u001b[1;34m\u001b[0m\n\u001b[0;32m      2\u001b[0m \u001b[1;33m\u001b[0m\u001b[0m\n\u001b[0;32m      3\u001b[0m \u001b[1;31m# Load the workspace from the saved config file\u001b[0m\u001b[1;33m\u001b[0m\u001b[1;33m\u001b[0m\u001b[1;33m\u001b[0m\u001b[0m\n\u001b[1;32m----> 4\u001b[1;33m \u001b[0mws\u001b[0m \u001b[1;33m=\u001b[0m \u001b[0mWorkspace\u001b[0m\u001b[1;33m.\u001b[0m\u001b[0mfrom_config\u001b[0m\u001b[1;33m(\u001b[0m\u001b[1;33m)\u001b[0m\u001b[1;33m\u001b[0m\u001b[1;33m\u001b[0m\u001b[0m\n\u001b[0m\u001b[0;32m      5\u001b[0m \u001b[0mprint\u001b[0m\u001b[1;33m(\u001b[0m\u001b[1;34m'Ready to work with'\u001b[0m\u001b[1;33m,\u001b[0m \u001b[0mws\u001b[0m\u001b[1;33m.\u001b[0m\u001b[0mname\u001b[0m\u001b[1;33m)\u001b[0m\u001b[1;33m\u001b[0m\u001b[1;33m\u001b[0m\u001b[0m\n",
      "\u001b[1;32mC:\\tools\\miniconda3\\lib\\site-packages\\azureml\\core\\workspace.py\u001b[0m in \u001b[0;36mfrom_config\u001b[1;34m(path, auth, _logger, _file_name)\u001b[0m\n\u001b[0;32m    277\u001b[0m \u001b[1;33m\u001b[0m\u001b[0m\n\u001b[0;32m    278\u001b[0m             \u001b[1;32mif\u001b[0m \u001b[1;32mnot\u001b[0m \u001b[0mfound_path\u001b[0m\u001b[1;33m:\u001b[0m\u001b[1;33m\u001b[0m\u001b[1;33m\u001b[0m\u001b[0m\n\u001b[1;32m--> 279\u001b[1;33m                 raise UserErrorException(\n\u001b[0m\u001b[0;32m    280\u001b[0m                     \u001b[1;34m'We could not find config.json in: {} or in its parent directories. '\u001b[0m\u001b[1;33m\u001b[0m\u001b[1;33m\u001b[0m\u001b[0m\n\u001b[0;32m    281\u001b[0m                     \u001b[1;34m'Please provide the full path to the config file or ensure that '\u001b[0m\u001b[1;33m\u001b[0m\u001b[1;33m\u001b[0m\u001b[0m\n",
      "\u001b[1;31mUserErrorException\u001b[0m: UserErrorException:\n\tMessage: We could not find config.json in: c:\\Projects\\AzureMLGettingStarted\\notebooks\\Image Classification or in its parent directories. Please provide the full path to the config file or ensure that config.json exists in the parent directories.\n\tInnerException None\n\tErrorResponse \n{\n    \"error\": {\n        \"code\": \"UserError\",\n        \"message\": \"We could not find config.json in: c:\\\\Projects\\\\AzureMLGettingStarted\\\\notebooks\\\\Image Classification or in its parent directories. Please provide the full path to the config file or ensure that config.json exists in the parent directories.\"\n    }\n}"
     ]
    }
   ],
   "source": [
    "from azureml.core import Workspace\n",
    "\n",
    "# Load the workspace from the saved config file\n",
    "ws = Workspace.from_config()\n",
    "print('Ready to work with', ws.name)"
   ]
  },
  {
   "source": [
    "# Run your first Experiment"
   ],
   "cell_type": "markdown",
   "metadata": {}
  },
  {
   "cell_type": "code",
   "execution_count": null,
   "metadata": {},
   "outputs": [],
   "source": [
    "from azureml.core import Experiment, Run\n",
    "import pandas as pd\n",
    "import matplotlib.pyplot as plt\n",
    "%matplotlib inline \n",
    "\n",
    "# Create an Azure ML experiment in your workspace\n",
    "experiment = Experiment(workspace = ws, name = \"diabetes-experiment\")\n",
    "print(\"Starting experiment:\", experiment.name)\n",
    "\n",
    "# Start logging data from the experiment\n",
    "run = experiment.start_logging()\n",
    "\n",
    "# load the diabetes dataset\n",
    "data = pd.read_csv('data/diabetes.csv')\n",
    "\n",
    "# Count the rows and log the result\n",
    "row_count = (len(data))\n",
    "run.log(\"observations\", row_count)\n",
    "\n",
    "# Create box plots for each feature variable by the \"diabetic\" label and log them\n",
    "num_cols = data.columns[:-1]\n",
    "for col in num_cols:\n",
    "    fig = plt.figure(figsize=(9, 6))\n",
    "    ax = fig.gca()\n",
    "    data.boxplot(column = col, by = \"Diabetic\", ax = ax)\n",
    "    ax.set_title(col + ' by Diabetic')\n",
    "    ax.set_ylabel(col)\n",
    "    run.log_image(name = col, plot = fig)\n",
    "plt.show()\n",
    "\n",
    "# Create a list of mean diabetes pedigree per age and log it\n",
    "mean_by_age = data[[\"Age\", \"DiabetesPedigree\"]].groupby([\"Age\"]).mean().reset_index()\n",
    "ages = mean_by_age[\"Age\"].tolist()\n",
    "pedigrees = mean_by_age[\"DiabetesPedigree\"].tolist()\n",
    "for index in range(len(ages)):\n",
    "       run.log_row(\"Mean Diabetes Pedigree by Age\", Age = ages[index],Diabetes_Pedigree = pedigrees[index])\n",
    "\n",
    "# Save a sample of the data and upload it to the experiment output\n",
    "data.sample(100).to_csv(\"sample.csv\", index=False, header=True)\n",
    "run.upload_file(name = 'outputs/sample.csv', path_or_stream = './sample.csv')\n",
    "\n",
    "# Complete tracking and get link to details\n",
    "run.complete()"
   ]
  },
  {
   "source": [
    "# View Experiment Results"
   ],
   "cell_type": "markdown",
   "metadata": {}
  },
  {
   "cell_type": "code",
   "execution_count": null,
   "metadata": {},
   "outputs": [],
   "source": [
    "run"
   ]
  },
  {
   "cell_type": "code",
   "execution_count": null,
   "metadata": {},
   "outputs": [],
   "source": []
  }
 ]
}