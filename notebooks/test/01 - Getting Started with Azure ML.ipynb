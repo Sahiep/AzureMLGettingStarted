{
 "cells": [
  {
   "cell_type": "markdown",
   "metadata": {},
   "source": [
    "# Exercise 1 - Getting Started with Azure ML\n",
    "\n",
    "In a separate browser tab, sign into your Azure subscription and view your portal at https://portal.azure.com. \n",
    "\n",
    "As you proceed through the tasks below, you'll toggle between this notebook and the portal to visually confirm that the code you've run here has had the intended results in your Azure subscription.\n",
    "\n",
    "## Task 1: Install the Azure ML SDK for Python\n",
    "\n",
    "The Azure ML SDK for Python provides classes you can use to work with Azure ML in your Azure subscription. Run the cell below to install the **azureml-sdk** Python package, including the optional *notebooks* component; which provides some functionality specific to the Jupyter Notebooks environment.\n",
    "\n",
    "> **More Information**: For more details about installing the Azure ML SDK and its optional components, see the [Azure ML SDK Documentation](https://docs.microsoft.com/en-us/python/api/overview/azure/ml/install?view=azure-ml-py)"
   ]
  },
  {
   "cell_type": "code",
   "execution_count": 2,
   "metadata": {},
   "outputs": [
    {
     "name": "stdout",
     "output_type": "stream",
     "text": [
      "Ready to use Azure ML 1.0.83\n"
     ]
    }
   ],
   "source": [
    "#!pip install --upgrade azureml-sdk[notebooks,automl,explain]\n",
    "\n",
    "import azureml.core\n",
    "print(\"Ready to use Azure ML\", azureml.core.VERSION)"
   ]
  },
  {
   "cell_type": "markdown",
   "metadata": {},
   "source": [
    "## Task 2: Sign Into your Azure Subscription\n",
    "\n",
    "Now that you've installed the SDK, you can use it to create, manage, and use Azure ML related objects in your Azure subscription, which means you'll need an authenticated connection between the code in this notebook and your Azure subscription. To create this authenticated connection, you can use the **authentication** module in the Azure ML SDK. In this case, you'll use the **InteractiveLoginAuthentication** class to generate a session token.\n",
    "\n",
    "Run the cell below, and when prompted, click the https://microsoft.com/devicelogin link and enter the automatically generated code. Then, sign into your Azure subscription in the browser tab that is opened. After you have successfully signed in, you can close the browser tab that was opened and return to this notebook."
   ]
  },
  {
   "cell_type": "code",
   "execution_count": 3,
   "metadata": {},
   "outputs": [
    {
     "name": "stdout",
     "output_type": "stream",
     "text": [
      "Performing interactive authentication. Please follow the instructions on the terminal.\n",
      "To sign in, use a web browser to open the page https://microsoft.com/devicelogin and enter the code DZ4SUQZ7C to authenticate.\n"
     ]
    },
    {
     "name": "stderr",
     "output_type": "stream",
     "text": [
      "WARNING - Failed to authenticate '{'additional_properties': {}, 'id': '/tenants/fcb2b37b-5da0-466b-9b83-0014b67a7c78', 'tenant_id': 'fcb2b37b-5da0-466b-9b83-0014b67a7c78'}' due to error 'Get Token request returned http error: 400 and server response: {\"error\":\"interaction_required\",\"error_description\":\"AADSTS50076: Due to a configuration change made by your administrator, or because you moved to a new location, you must use multi-factor authentication to access '797f4846-ba00-4fd7-ba43-dac1f8f63013'.\\r\\nTrace ID: ca471377-6ecb-4ddf-8419-4b0cc5a63700\\r\\nCorrelation ID: e160a90c-64ad-41f0-8487-d3b76eada49a\\r\\nTimestamp: 2020-02-06 23:47:52Z\",\"error_codes\":[50076],\"timestamp\":\"2020-02-06 23:47:52Z\",\"trace_id\":\"ca471377-6ecb-4ddf-8419-4b0cc5a63700\",\"correlation_id\":\"e160a90c-64ad-41f0-8487-d3b76eada49a\",\"error_uri\":\"https://login.microsoftonline.com/error?code=50076\",\"suberror\":\"basic_action\"}'\n"
     ]
    },
    {
     "name": "stdout",
     "output_type": "stream",
     "text": [
      "Interactive authentication successfully completed.\n",
      "Signed in\n"
     ]
    }
   ],
   "source": [
    "from azureml.core import authentication\n",
    "\n",
    "auth = authentication.InteractiveLoginAuthentication()\n",
    "print('Signed in')"
   ]
  },
  {
   "cell_type": "markdown",
   "metadata": {},
   "source": [
    "## Task 3: Create or Check Workspace\n",
    "\n",
    "A workspace is a centralized place to manage all of the Azure ML resources you need to work on a machine learning project.\n",
    "\n",
    "It can be created via: \n",
    "- Visual Interface in the Azure Portal\n",
    "- Azure CLI \n",
    "- Azure ML SDK \n",
    "\n",
    "In the code below, enter appropriate values for the \n",
    "- *SUBSCRIPTION_ID*, \n",
    "- *RESOURCE_GROUP*, \n",
    "- *WORKSPACE_NAME*, and \n",
    "- *REGION*\n",
    "\n",
    "(You can find your Azure subscription ID in the Azure portal - just click the &#128273; **Subscriptions** tab on the left and then select the subscription you want to use). Then run the cell to create your workspace.\n",
    "\n",
    "> **Note**: If you hadn't previously created an authenticated session, you'd automatically be prompted to sign into your Azure subscription!"
   ]
  },
  {
   "cell_type": "code",
   "execution_count": null,
   "metadata": {},
   "outputs": [],
   "source": [
    "from azureml.core import Workspace\n",
    "\n",
    "SUBSCRIPTION_ID = 'subscriptionid' # Get this from the Azure portal\n",
    "RESOURCE_GROUP_NAME  = 'rg' # Get this from the Azure portal\n",
    "WORKSPACE_NAME  = 'sw-name' # Name of your choice - if it doesn't exist, it will be created\n",
    "REGION = 'northeurope'# Or a region of your choice\n",
    "\n",
    "ws = None\n",
    "try:\n",
    "    # Find existing workspace\n",
    "    ws = Workspace(workspace_name=WORKSPACE_NAME,\n",
    "                   subscription_id=SUBSCRIPTION_ID,\n",
    "                   resource_group= RESOURCE_GROUP_NAME)\n",
    "    print (ws.name, \"found.\")\n",
    "except Exception as ex:\n",
    "    # If workspace not found, create it\n",
    "    print(ex.message)\n",
    "    print(\"Attempting to create new workspace...\")\n",
    "    ws = Workspace.create(name=WORKSPACE_NAME, \n",
    "                      subscription_id=SUBSCRIPTION_ID,\n",
    "                      resource_group=RESOURCE_GROUP_NAME,\n",
    "                      create_resource_group=True,\n",
    "                      location=REGION \n",
    "                     )\n",
    "    print(ws.name, \"created.\")\n",
    "finally:\n",
    "    # Save the workspace configuration for later\n",
    "    if ws != None:\n",
    "        ws.write_config()\n",
    "        print(ws.name, \"saved.\")"
   ]
  },
  {
   "cell_type": "markdown",
   "metadata": {},
   "source": [
    "In the [Azure portal](https://portal.azure.com) you find the resource group you specified containing: \n",
    "- *Machine Learning Workspace* \n",
    "- *Storage Account* (where the workspace will store data, code, and other saved items)\n",
    "- *AppInsights* instance (used to monitor the workspace)\n",
    "- *KeyVault* instance (used to manage secure information).\n",
    "\n",
    "In the code above, note that you used the **write_config** method to save the workspace configuration. This saved a JSON configuration file in a hidden folder named **.azureml**, which you can verify with the following cell."
   ]
  },
  {
   "cell_type": "code",
   "execution_count": null,
   "metadata": {},
   "outputs": [],
   "source": [
    "# Print the config.json file\n",
    "with open(\"./.azureml/config.json\",\"r\") as f:\n",
    "    print(f.read())"
   ]
  },
  {
   "cell_type": "markdown",
   "metadata": {},
   "source": [
    "This saved configuration file enables you to easily obtain a reference to the workspace by simply loading it, as demonstrated in the following cell. Note that this method will prompt you to reauthenticate against your Azure subscription if your session has expired."
   ]
  },
  {
   "cell_type": "code",
   "execution_count": null,
   "metadata": {},
   "outputs": [],
   "source": [
    "from azureml.core import Workspace\n",
    "\n",
    "ws = Workspace.from_config()\n",
    "print(ws.name, \"loaded\")"
   ]
  },
  {
   "cell_type": "markdown",
   "metadata": {},
   "source": [
    "## Task 4: Run an Experiment\n",
    "\n",
    "Let's see how Azure ML can help track metrics from a simple experiment that uses Python code to examine some data.\n",
    "\n",
    "In this case, you'll use a simple dataset that contains details of patients that have been tested for diabetes. You'll run an experiment to explore the data, extracting statistics, visualizations, and data samples. With the addition of a few lines, the code uses an Azure ML *experiment* to log details of the run."
   ]
  },
  {
   "cell_type": "code",
   "execution_count": null,
   "metadata": {
    "scrolled": true
   },
   "outputs": [],
   "source": [
    "from azureml.core import Experiment, Run\n",
    "import pandas as pd\n",
    "import matplotlib.pyplot as plt\n",
    "%matplotlib inline \n",
    "\n",
    "# Create an Azure ML experiment in your workspace\n",
    "experiment = Experiment(workspace = ws, name = \"diabetes-experiment\")\n",
    "print(\"Starting experiment:\", experiment.name)\n",
    "\n",
    "# Start logging data from the experiment\n",
    "run = experiment.start_logging()\n",
    "\n",
    "# load the diabetes dataset\n",
    "data = pd.read_csv('data/diabetes.csv')\n",
    "\n",
    "# Count the rows and log the result\n",
    "row_count = (len(data))\n",
    "run.log(\"observations\", row_count)\n",
    "\n",
    "# Create box plots for each feature variable by the \"diabetic\" label and log them\n",
    "num_cols = data.columns[:-1]\n",
    "for col in num_cols:\n",
    "    fig = plt.figure(figsize=(9, 6))\n",
    "    ax = fig.gca()\n",
    "    data.boxplot(column = col, by = \"Diabetic\", ax = ax)\n",
    "    ax.set_title(col + ' by Diabetic')\n",
    "    ax.set_ylabel(col)\n",
    "    run.log_image(name = col, plot = fig)\n",
    "plt.show()\n",
    "\n",
    "# Create a list of mean diabetes pedigree per age and log it\n",
    "mean_by_age = data[[\"Age\", \"DiabetesPedigree\"]].groupby([\"Age\"]).mean().reset_index()\n",
    "ages = mean_by_age[\"Age\"].tolist()\n",
    "pedigrees = mean_by_age[\"DiabetesPedigree\"].tolist()\n",
    "for index in range(len(ages)):\n",
    "       run.log_row(\"Mean Diabetes Pedigree by Age\", Age = ages[index],Diabetes_Pedigree = pedigrees[index])\n",
    "\n",
    "# Save a sample of the data and upload it to the experiment output\n",
    "data.sample(100).to_csv(\"sample.csv\", index=False, header=True)\n",
    "run.upload_file(name = 'outputs/sample.csv', path_or_stream = './sample.csv')\n",
    "\n",
    "# Complete tracking and get link to details\n",
    "run.complete()\n"
   ]
  },
  {
   "cell_type": "markdown",
   "metadata": {},
   "source": [
    "## Task 5: View Experiment Results\n",
    "\n",
    "After the experiment has been finished, you can view the results. Start by running the following cell:"
   ]
  },
  {
   "cell_type": "code",
   "execution_count": null,
   "metadata": {},
   "outputs": [],
   "source": [
    "run"
   ]
  },
  {
   "cell_type": "markdown",
   "metadata": {},
   "source": [
    "*Don't worry if the status is still **Running**, it can take a while to update. Eventually it will be set to **Completed**.*\n",
    "\n",
    "Note that the experiment has been assigned a unique ID, and the output includes a link to a details page in the Azure portal. Click this link to open a new browser tab and view the experiment run details, noting the following:\n",
    "\n",
    "On the **Details** tab:\n",
    "\n",
    "- The **Tracked Metrics** list includes the *observations* value (the number of records in the dataset), an image for each matplotlib plot that was generated, and a \n",
    "table for the mean diabetes pedigree by age.\n",
    "- The *Mean Diabetes Pedigree by Age* table is plotted as a chart.\n",
    "- Each matplotlib plot image is shown.\n",
    "\n",
    "On the **Outputs** tab:\n",
    "\n",
    "- The ouputs generated by the experiment are listed - including each of the plot images and a CSV file containing a sample of the data used in the experiment."
   ]
  },
  {
   "cell_type": "code",
   "execution_count": null,
   "metadata": {},
   "outputs": [],
   "source": []
  }
 ],
 "metadata": {
  "kernelspec": {
   "display_name": "Python 3",
   "language": "python",
   "name": "python3"
  },
  "language_info": {
   "codemirror_mode": {
    "name": "ipython",
    "version": 3
   },
   "file_extension": ".py",
   "mimetype": "text/x-python",
   "name": "python",
   "nbconvert_exporter": "python",
   "pygments_lexer": "ipython3",
   "version": "3.6.9"
  }
 },
 "nbformat": 4,
 "nbformat_minor": 2
}
